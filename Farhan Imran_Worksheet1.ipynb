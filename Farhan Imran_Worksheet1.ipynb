{
  "nbformat": 4,
  "nbformat_minor": 0,
  "metadata": {
    "colab": {
      "provenance": [],
      "toc_visible": true
    },
    "kernelspec": {
      "name": "python3",
      "display_name": "Python 3"
    },
    "language_info": {
      "name": "python"
    }
  },
  "cells": [
    {
      "cell_type": "code",
      "execution_count": null,
      "metadata": {
        "colab": {
          "base_uri": "https://localhost:8080/"
        },
        "id": "kzNNITk4LYRa",
        "outputId": "062aef06-01c7-44e1-8c79-5d90b096a4ea"
      },
      "outputs": [
        {
          "output_type": "execute_result",
          "data": {
            "text/plain": [
              "array([[0, 1, 2],\n",
              "       [3, 4, 5],\n",
              "       [6, 7, 8]])"
            ]
          },
          "metadata": {},
          "execution_count": 24
        }
      ],
      "source": [
        "import numpy as np\n",
        "\n",
        "a = np.array([[1, 2, 3, 4], [4, 4, 5, 6]])\n",
        "a.ndim, a.shape\n",
        "\n",
        "b = np.arange(9).reshape(3, 3)\n",
        "b\n"
      ]
    },
    {
      "cell_type": "code",
      "source": [
        "import numpy as np\n",
        "\n",
        "a = np.zeros((3, 4))\n",
        "a\n",
        "\n",
        "b = np.random.randint(0, 10, (2, 3))\n",
        "b\n"
      ],
      "metadata": {
        "colab": {
          "base_uri": "https://localhost:8080/"
        },
        "id": "au4w8SuUPINW",
        "outputId": "1129601f-30cf-4681-b6cb-7dfac1572d02"
      },
      "execution_count": null,
      "outputs": [
        {
          "output_type": "execute_result",
          "data": {
            "text/plain": [
              "array([[3, 5, 5],\n",
              "       [3, 3, 7]])"
            ]
          },
          "metadata": {},
          "execution_count": 23
        }
      ]
    },
    {
      "cell_type": "code",
      "source": [
        "import numpy as np\n",
        "\n",
        "a = np.zeros((3, 4))\n",
        "a\n"
      ],
      "metadata": {
        "colab": {
          "base_uri": "https://localhost:8080/"
        },
        "id": "xAiT1LRRPniF",
        "outputId": "632a2a75-e431-4f05-c1de-816aff2590d7"
      },
      "execution_count": null,
      "outputs": [
        {
          "output_type": "execute_result",
          "data": {
            "text/plain": [
              "array([[0., 0., 0., 0.],\n",
              "       [0., 0., 0., 0.],\n",
              "       [0., 0., 0., 0.]])"
            ]
          },
          "metadata": {},
          "execution_count": 25
        }
      ]
    },
    {
      "cell_type": "code",
      "source": [
        "import numpy as np\n",
        "\n",
        "a = np.array([[1, 2, 3, 4], [4, 4, 5, 6]])\n",
        "a.ndim, a.shape\n"
      ],
      "metadata": {
        "colab": {
          "base_uri": "https://localhost:8080/"
        },
        "id": "q8j5k6FtNC30",
        "outputId": "415708a5-9101-445e-aec4-583d4e61e635"
      },
      "execution_count": null,
      "outputs": [
        {
          "output_type": "execute_result",
          "data": {
            "text/plain": [
              "(2, (2, 4))"
            ]
          },
          "metadata": {},
          "execution_count": 26
        }
      ]
    },
    {
      "cell_type": "code",
      "source": [
        "c = np.array ([[3,4,5,6],[4,5,6,8]])\n",
        "c"
      ],
      "metadata": {
        "colab": {
          "base_uri": "https://localhost:8080/"
        },
        "id": "IY5ZGYyrQ9Rs",
        "outputId": "9b4de2bd-fceb-45a0-d591-1f031ffa5aa7"
      },
      "execution_count": null,
      "outputs": [
        {
          "output_type": "execute_result",
          "data": {
            "text/plain": [
              "array([[3, 4, 5, 6],\n",
              "       [4, 5, 6, 8]])"
            ]
          },
          "metadata": {},
          "execution_count": 11
        }
      ]
    },
    {
      "cell_type": "code",
      "source": [
        "d = np.array([[5,6,7,8],[3,4,5,6]])\n",
        "d"
      ],
      "metadata": {
        "colab": {
          "base_uri": "https://localhost:8080/"
        },
        "id": "upA6ZvYnRPVZ",
        "outputId": "ce6cf47c-261a-473a-eb38-437dfea2c5ec"
      },
      "execution_count": null,
      "outputs": [
        {
          "output_type": "execute_result",
          "data": {
            "text/plain": [
              "array([[5, 6, 7, 8],\n",
              "       [3, 4, 5, 6]])"
            ]
          },
          "metadata": {},
          "execution_count": 12
        }
      ]
    },
    {
      "cell_type": "code",
      "source": [
        "e = np.concatenate((c,d),axis=1)\n",
        "e"
      ],
      "metadata": {
        "colab": {
          "base_uri": "https://localhost:8080/"
        },
        "id": "X6FpPMqdRlq0",
        "outputId": "12e4a696-18d4-4aba-e7e4-acc402ab39b6"
      },
      "execution_count": null,
      "outputs": [
        {
          "output_type": "execute_result",
          "data": {
            "text/plain": [
              "array([[3, 4, 5, 6, 5, 6, 7, 8],\n",
              "       [4, 5, 6, 8, 3, 4, 5, 6]])"
            ]
          },
          "metadata": {},
          "execution_count": 13
        }
      ]
    },
    {
      "cell_type": "code",
      "source": [
        "F = np.hstack((c,d))\n",
        "F"
      ],
      "metadata": {
        "colab": {
          "base_uri": "https://localhost:8080/"
        },
        "id": "OtAIdTOeRyYo",
        "outputId": "6e132085-9ee0-4224-f80b-15183443c442"
      },
      "execution_count": null,
      "outputs": [
        {
          "output_type": "execute_result",
          "data": {
            "text/plain": [
              "array([[3, 4, 5, 6, 5, 6, 7, 8],\n",
              "       [4, 5, 6, 8, 3, 4, 5, 6]])"
            ]
          },
          "metadata": {},
          "execution_count": 20
        }
      ]
    },
    {
      "cell_type": "code",
      "source": [
        "F = np.vstack((c,d))\n",
        "F"
      ],
      "metadata": {
        "colab": {
          "base_uri": "https://localhost:8080/"
        },
        "id": "6jPgVJUbRymU",
        "outputId": "ac2f596a-79a8-4638-8c5f-57b8b6b7ce7f"
      },
      "execution_count": null,
      "outputs": [
        {
          "output_type": "execute_result",
          "data": {
            "text/plain": [
              "array([[3, 4, 5, 6],\n",
              "       [4, 5, 6, 8],\n",
              "       [5, 6, 7, 8],\n",
              "       [3, 4, 5, 6]])"
            ]
          },
          "metadata": {},
          "execution_count": 21
        }
      ]
    },
    {
      "cell_type": "code",
      "source": [],
      "metadata": {
        "id": "tEU6lW94RytC"
      },
      "execution_count": null,
      "outputs": []
    },
    {
      "cell_type": "markdown",
      "source": [
        "worksheet1\n"
      ],
      "metadata": {
        "id": "vS8tfmXYXUJf"
      }
    },
    {
      "cell_type": "code",
      "source": [
        "#worksheet\n",
        "#Initialize an empty array with size 2X2.\n",
        "import numpy as np\n",
        "\n",
        "empty_array = np.empty((2, 2))\n",
        "empty_array\n"
      ],
      "metadata": {
        "colab": {
          "base_uri": "https://localhost:8080/"
        },
        "id": "Xg9sLOFuRywm",
        "outputId": "67130354-afb9-4f33-969a-1c2c48a6e0bd"
      },
      "execution_count": null,
      "outputs": [
        {
          "output_type": "execute_result",
          "data": {
            "text/plain": [
              "array([[4.70180122e-310, 0.00000000e+000],\n",
              "       [4.70066679e-310, 6.86518525e-310]])"
            ]
          },
          "metadata": {},
          "execution_count": 28
        }
      ]
    },
    {
      "cell_type": "code",
      "source": [
        "#Initialize an all one array with size 4X2.\n",
        "ones_array = np.ones((4, 2))\n",
        "ones_array\n"
      ],
      "metadata": {
        "colab": {
          "base_uri": "https://localhost:8080/"
        },
        "id": "hmpgq2PJRy8C",
        "outputId": "03420906-f43e-49f0-f255-e268cd281943"
      },
      "execution_count": null,
      "outputs": [
        {
          "output_type": "execute_result",
          "data": {
            "text/plain": [
              "array([[1., 1.],\n",
              "       [1., 1.],\n",
              "       [1., 1.],\n",
              "       [1., 1.]])"
            ]
          },
          "metadata": {},
          "execution_count": 29
        }
      ]
    },
    {
      "cell_type": "code",
      "source": [
        "#Return a new array of given shape and type, filled with fill value.{Hint: np.full}\n",
        "shape = (3, 3)\n",
        "fill_value = 7\n",
        "full_array = np.full(shape, fill_value)\n",
        "full_array\n"
      ],
      "metadata": {
        "colab": {
          "base_uri": "https://localhost:8080/"
        },
        "id": "U5dc_jsTXgq0",
        "outputId": "35fcc071-b9f8-4d49-95cd-8e2b47e0ceec"
      },
      "execution_count": null,
      "outputs": [
        {
          "output_type": "execute_result",
          "data": {
            "text/plain": [
              "array([[7, 7, 7],\n",
              "       [7, 7, 7],\n",
              "       [7, 7, 7]])"
            ]
          },
          "metadata": {},
          "execution_count": 30
        }
      ]
    },
    {
      "cell_type": "code",
      "source": [
        "#Return a new array of zeros with same shape and type as a given array.{Hint: np.zeros like}\n",
        "given_array = np.array([[1, 2, 3], [4, 5, 6]])\n",
        "zeros_like_array = np.zeros_like(given_array)\n",
        "zeros_like_array\n"
      ],
      "metadata": {
        "colab": {
          "base_uri": "https://localhost:8080/"
        },
        "id": "_4V9uLAqXfUj",
        "outputId": "ea50d393-6e9d-4530-fc12-92eefc1fdd8e"
      },
      "execution_count": null,
      "outputs": [
        {
          "output_type": "execute_result",
          "data": {
            "text/plain": [
              "array([[0, 0, 0],\n",
              "       [0, 0, 0]])"
            ]
          },
          "metadata": {},
          "execution_count": 31
        }
      ]
    },
    {
      "cell_type": "code",
      "source": [
        "#Return a new array of ones with same shape and type as a given array.{Hint: np.ones like}\n",
        "ones_like_array = np.ones_like(given_array)\n",
        "ones_like_array\n"
      ],
      "metadata": {
        "colab": {
          "base_uri": "https://localhost:8080/"
        },
        "id": "Tae8WLDfXfhe",
        "outputId": "9e3f8d0a-cc51-4549-e9e3-c71268dcd613"
      },
      "execution_count": null,
      "outputs": [
        {
          "output_type": "execute_result",
          "data": {
            "text/plain": [
              "array([[1, 1, 1],\n",
              "       [1, 1, 1]])"
            ]
          },
          "metadata": {},
          "execution_count": 32
        }
      ]
    },
    {
      "cell_type": "code",
      "source": [
        "#For an existing list new_list = [1,2,3,4] convert to an numpy array.{Hint: np.array()}\n",
        "new_list = [1, 2, 3, 4]\n",
        "numpy_array = np.array(new_list)\n",
        "numpy_array\n"
      ],
      "metadata": {
        "id": "h1-cJqcfXfk8"
      },
      "execution_count": null,
      "outputs": []
    },
    {
      "cell_type": "markdown",
      "source": [
        "problem 2"
      ],
      "metadata": {
        "id": "1kk3lqJX6ddK"
      }
    },
    {
      "cell_type": "code",
      "source": [
        "#Problem 2\n",
        "#Create an array with values ranging from 10 to 49. {Hint:np.arrange()}.\n",
        "import numpy as np\n",
        "\n",
        "array_10_to_49 = np.arange(10, 50)\n",
        "array_10_to_49\n"
      ],
      "metadata": {
        "id": "brDrJeGeLeBn",
        "colab": {
          "base_uri": "https://localhost:8080/"
        },
        "outputId": "484c55f0-03a3-4d71-bd1c-6a82ca4ea1e4"
      },
      "execution_count": null,
      "outputs": [
        {
          "output_type": "execute_result",
          "data": {
            "text/plain": [
              "array([10, 11, 12, 13, 14, 15, 16, 17, 18, 19, 20, 21, 22, 23, 24, 25, 26,\n",
              "       27, 28, 29, 30, 31, 32, 33, 34, 35, 36, 37, 38, 39, 40, 41, 42, 43,\n",
              "       44, 45, 46, 47, 48, 49])"
            ]
          },
          "metadata": {},
          "execution_count": 33
        }
      ]
    },
    {
      "cell_type": "code",
      "source": [
        "#2. Create a 3X3 matrix with values ranging from 0 to 8.\n",
        "#{Hint:look for np.reshape()}\n",
        "import numpy as np\n",
        "\n",
        "\n",
        "array_0_to_8 = np.arange(9)\n",
        "\n",
        "# Reshape the array into a 3x3 matrix\n",
        "matrix_3x3 = array_0_to_8.reshape(3, 3)\n",
        "matrix_3x3\n"
      ],
      "metadata": {
        "id": "MTX5Id-gcbid",
        "colab": {
          "base_uri": "https://localhost:8080/"
        },
        "outputId": "8989bde4-1591-480f-fb20-b29d6b359467"
      },
      "execution_count": 11,
      "outputs": [
        {
          "output_type": "execute_result",
          "data": {
            "text/plain": [
              "array([[0, 1, 2],\n",
              "       [3, 4, 5],\n",
              "       [6, 7, 8]])"
            ]
          },
          "metadata": {},
          "execution_count": 11
        }
      ]
    },
    {
      "cell_type": "code",
      "source": [
        "#Create a 3X3 identity matrix.{Hint:np.eye()}\n",
        "import numpy as np\n",
        "\n",
        "identity_matrix = np.eye(3)\n",
        "identity_matrix"
      ],
      "metadata": {
        "colab": {
          "base_uri": "https://localhost:8080/"
        },
        "id": "V3bMV_tVdhDE",
        "outputId": "de965195-2ddc-423f-99e0-f9a03ec95c91"
      },
      "execution_count": null,
      "outputs": [
        {
          "output_type": "execute_result",
          "data": {
            "text/plain": [
              "array([[1., 0., 0.],\n",
              "       [0., 1., 0.],\n",
              "       [0., 0., 1.]])"
            ]
          },
          "metadata": {},
          "execution_count": 34
        }
      ]
    },
    {
      "cell_type": "code",
      "source": [
        "#Create a random array of size 30 and find the mean of the array.\n",
        "#{Hint:check for np.random.random() and array.mean() function}\n",
        "import numpy as np\n",
        "random_array = np.random.random(30)\n",
        "array_mean = random_array.mean()\n",
        "array_mean"
      ],
      "metadata": {
        "colab": {
          "base_uri": "https://localhost:8080/"
        },
        "id": "kvxSyhEDdhRV",
        "outputId": "909d0f76-3969-456d-d0c9-9317c771840a"
      },
      "execution_count": 12,
      "outputs": [
        {
          "output_type": "execute_result",
          "data": {
            "text/plain": [
              "0.5648340480813752"
            ]
          },
          "metadata": {},
          "execution_count": 12
        }
      ]
    },
    {
      "cell_type": "code",
      "source": [
        "#Create a 10X10 array with random values and find the minimum and maximum values.\n",
        "import numpy as np\n",
        "\n",
        "random_array = np.random.random((10, 10))\n",
        "min_value = random_array.min()\n",
        "max_value = random_array.max()\n",
        "min_value, max_value"
      ],
      "metadata": {
        "colab": {
          "base_uri": "https://localhost:8080/"
        },
        "id": "i7GPIa7odhb-",
        "outputId": "ee9f0697-1e63-431d-aa7a-8523deb9624f"
      },
      "execution_count": 13,
      "outputs": [
        {
          "output_type": "execute_result",
          "data": {
            "text/plain": [
              "(0.0026721466467719557, 0.9985077756506082)"
            ]
          },
          "metadata": {},
          "execution_count": 13
        }
      ]
    },
    {
      "cell_type": "code",
      "source": [
        "#Create a zero array of size 10 and replace 5th element with 1.\n",
        "import numpy as np\n",
        "\n",
        "zero_array = np.zeros(10)\n",
        "zero_array[4] = 1\n",
        "zero_array\n"
      ],
      "metadata": {
        "colab": {
          "base_uri": "https://localhost:8080/"
        },
        "id": "83usyr48dhfd",
        "outputId": "1b97cd14-5935-4757-8be0-9c3c00f6db9b"
      },
      "execution_count": 14,
      "outputs": [
        {
          "output_type": "execute_result",
          "data": {
            "text/plain": [
              "array([0., 0., 0., 0., 1., 0., 0., 0., 0., 0.])"
            ]
          },
          "metadata": {},
          "execution_count": 14
        }
      ]
    },
    {
      "cell_type": "code",
      "source": [
        "#Reverse an array arr = [1,2,0,0,4,0].\n",
        "import numpy as np\n",
        "\n",
        "arr = np.array([1, 2, 0, 0, 4, 0])\n",
        "reversed_arr = arr[::-1]\n",
        "reversed_arr\n"
      ],
      "metadata": {
        "colab": {
          "base_uri": "https://localhost:8080/"
        },
        "id": "fTpeQN8xgld2",
        "outputId": "d7369486-a7be-44ed-b632-3fc8826970df"
      },
      "execution_count": 15,
      "outputs": [
        {
          "output_type": "execute_result",
          "data": {
            "text/plain": [
              "array([0, 4, 0, 0, 2, 1])"
            ]
          },
          "metadata": {},
          "execution_count": 15
        }
      ]
    },
    {
      "cell_type": "code",
      "source": [
        "#create a 2d array with 1 on border 0 inside\n",
        "import numpy as np\n",
        "\n",
        "border_array = np.ones((3,3))\n",
        "border_array[1:-1, 1:-1] =0\n",
        "border_array"
      ],
      "metadata": {
        "colab": {
          "base_uri": "https://localhost:8080/"
        },
        "id": "LGElniP_gloW",
        "outputId": "a42f66c3-de11-47fc-ccbb-7aff9aa8024c"
      },
      "execution_count": null,
      "outputs": [
        {
          "output_type": "execute_result",
          "data": {
            "text/plain": [
              "array([[1., 1., 1.],\n",
              "       [1., 0., 1.],\n",
              "       [1., 1., 1.]])"
            ]
          },
          "metadata": {},
          "execution_count": 48
        }
      ]
    },
    {
      "cell_type": "code",
      "source": [
        "#9. Create a 8X8 matrix and fill it with a checkerboard pattern.\n",
        "import numpy as np\n",
        "\n",
        "checkerboard_matrix = np.zeros((8,8))\n",
        "checkerboard_matrix[1::2,::2] = 1\n",
        "checkerboard_matrix[::2,1::2] = 1\n",
        "checkerboard_matrix"
      ],
      "metadata": {
        "colab": {
          "base_uri": "https://localhost:8080/"
        },
        "id": "1R0XPVXtgltH",
        "outputId": "82353e11-86fd-4020-92e8-5e47dfc1ebdf"
      },
      "execution_count": null,
      "outputs": [
        {
          "output_type": "execute_result",
          "data": {
            "text/plain": [
              "array([[0., 1., 0., 1., 0., 1., 0., 1.],\n",
              "       [1., 0., 1., 0., 1., 0., 1., 0.],\n",
              "       [0., 1., 0., 1., 0., 1., 0., 1.],\n",
              "       [1., 0., 1., 0., 1., 0., 1., 0.],\n",
              "       [0., 1., 0., 1., 0., 1., 0., 1.],\n",
              "       [1., 0., 1., 0., 1., 0., 1., 0.],\n",
              "       [0., 1., 0., 1., 0., 1., 0., 1.],\n",
              "       [1., 0., 1., 0., 1., 0., 1., 0.]])"
            ]
          },
          "metadata": {},
          "execution_count": 49
        }
      ]
    },
    {
      "cell_type": "markdown",
      "source": [
        "Problem 3"
      ],
      "metadata": {
        "id": "u68JP4K462B3"
      }
    },
    {
      "cell_type": "code",
      "source": [
        "# problem 3\n",
        "import numpy as np\n",
        "\n",
        "# Define the arrays\n",
        "x = np.array([[1, 2], [3, 5]])\n",
        "y = np.array([[5, 6], [7, 8]])\n",
        "v = np.array([9, 10])\n",
        "w = np.array([11, 12])\n",
        "\n",
        "# 1. Add the two arrays\n",
        "add_xy = x + y\n",
        "print(\"Addition of x and y:\\n\", add_xy)\n",
        "\n",
        "# 2. Subtract the two arrays\n",
        "subtract_xy = x - y\n",
        "print(\"Subtraction of x and y:\\n\", subtract_xy)\n",
        "\n",
        "# 3. Multiply the arrays with any integer\n",
        "multiply_x = x * 2  # Example with integer 2\n",
        "print(\"Multiplication of x with 2:\\n\", multiply_x)\n",
        "\n",
        "# 4. Find the square of each element of the array\n",
        "square_x = np.square(x)\n",
        "print(\"Square of each element in x:\\n\", square_x)\n",
        "\n",
        "# 5. Find the dot product between: v and w ; x and v ; x and y\n",
        "dot_vw = np.dot(v, w)\n",
        "print(\"Dot product of v and w:\", dot_vw)\n",
        "\n",
        "dot_xv = np.dot(x, v)\n",
        "print(\"Dot product of x and v:\\n\", dot_xv)\n",
        "\n",
        "dot_xy = np.dot(x, y)\n",
        "print(\"Dot product of x and y:\\n\", dot_xy)\n",
        "\n",
        "# 6. Concatenate x and y along row and Concatenate v and w along column\n",
        "concatenate_xy = np.concatenate((x, y), axis=0)  # along row\n",
        "print(\"Concatenate x and y along row:\\n\", concatenate_xy)\n",
        "\n",
        "concatenate_vw = np.stack((v, w), axis=1)  # along column\n",
        "print(\"Concatenate v and w along column:\\n\", concatenate_vw)\n",
        "\n",
        "# 7. Concatenate x and v; observe and explain any errors\n",
        "try:\n",
        "    concatenate_xv = np.concatenate((x, v), axis=0)  # this will raise an error\n",
        "    print(\"Concatenate x and v:\\n\", concatenate_xv)\n",
        "except ValueError as e:\n",
        "    print(\"Error:\", e)\n",
        "    print(\"Explanation: Arrays x and v cannot be concatenated along axis 0 because their dimensions do not match. x has shape (2, 2) while v has shape (2,). To concatenate along axis 0, they must have the same number of columns.\")\n"
      ],
      "metadata": {
        "id": "Vul2so_DglwL",
        "colab": {
          "base_uri": "https://localhost:8080/"
        },
        "outputId": "4317a013-4f17-4e38-c9cd-f6c1c79a99c3"
      },
      "execution_count": 16,
      "outputs": [
        {
          "output_type": "stream",
          "name": "stdout",
          "text": [
            "Addition of x and y:\n",
            " [[ 6  8]\n",
            " [10 13]]\n",
            "Subtraction of x and y:\n",
            " [[-4 -4]\n",
            " [-4 -3]]\n",
            "Multiplication of x with 2:\n",
            " [[ 2  4]\n",
            " [ 6 10]]\n",
            "Square of each element in x:\n",
            " [[ 1  4]\n",
            " [ 9 25]]\n",
            "Dot product of v and w: 219\n",
            "Dot product of x and v:\n",
            " [29 77]\n",
            "Dot product of x and y:\n",
            " [[19 22]\n",
            " [50 58]]\n",
            "Concatenate x and y along row:\n",
            " [[1 2]\n",
            " [3 5]\n",
            " [5 6]\n",
            " [7 8]]\n",
            "Concatenate v and w along column:\n",
            " [[ 9 11]\n",
            " [10 12]]\n",
            "Error: all the input arrays must have same number of dimensions, but the array at index 0 has 2 dimension(s) and the array at index 1 has 1 dimension(s)\n",
            "Explanation: Arrays x and v cannot be concatenated along axis 0 because their dimensions do not match. x has shape (2, 2) while v has shape (2,). To concatenate along axis 0, they must have the same number of columns.\n"
          ]
        }
      ]
    },
    {
      "cell_type": "markdown",
      "source": [
        "#problem 4"
      ],
      "metadata": {
        "id": "c0om-THQ-Crj"
      }
    },
    {
      "cell_type": "code",
      "source": [
        "#problem 4\n",
        "\n",
        "import numpy as np\n",
        "\n",
        "# Define arrays A and B\n",
        "A = np.array([[3, 4], [7, 8]])\n",
        "B = np.array([[5, 3], [2, 1]])\n",
        "\n",
        "# 1. Prove A.A⁻¹ = I\n",
        "A_inv = np.linalg.inv(A)\n",
        "I = np.dot(A, A_inv)\n",
        "print(\"A.A⁻¹:\\n\", I)  # Should be close to the identity matrix\n",
        "\n",
        "# 2. Prove AB ≠ BA\n",
        "AB = np.dot(A, B)\n",
        "BA = np.dot(B, A)\n",
        "print(\"\\nAB:\\n\", AB)\n",
        "print(\"\\nBA:\\n\", BA)\n",
        "print(\"\\nAB ≠ BA:\", not np.array_equal(AB, BA))  # Compare if they are equal\n",
        "\n",
        "# 3. Prove (AB)ᵀ = BᵀAᵀ\n",
        "AB_transpose = np.transpose(AB)\n",
        "B_transpose = np.transpose(B)\n",
        "A_transpose = np.transpose(A)\n",
        "BT_AT = np.dot(B_transpose, A_transpose)\n",
        "print(\"\\n(AB)ᵀ:\\n\", AB_transpose)\n",
        "print(\"\\nBᵀAᵀ:\\n\", BT_AT)\n",
        "print(\"\\n(AB)ᵀ = BᵀAᵀ:\", np.array_equal(AB_transpose, BT_AT))\n",
        "\n",
        "\n",
        "# Solve the system of linear equations using inverse method\n",
        "# 2x - 3y + z = -1\n",
        "# x - y + 2z = -3\n",
        "# 3x + y - z = 9\n",
        "\n",
        "A = np.array([[2, -3, 1], [1, -1, 2], [3, 1, -1]])\n",
        "B = np.array([-1, -3, 9])\n",
        "\n",
        "# Calculate the inverse of A\n",
        "A_inv = np.linalg.inv(A)\n",
        "\n",
        "# Solve for X\n",
        "X = np.dot(A_inv, B)\n",
        "print(\"\\nSolution using inverse method:\\n\", X)\n",
        "\n",
        "# Solve using np.linalg.solve\n",
        "X = np.linalg.solve(A,B)\n",
        "print(\"\\nSolution using np.linalg.solve:\\n\", X)"
      ],
      "metadata": {
        "id": "hhOSnUlUgl1q",
        "colab": {
          "base_uri": "https://localhost:8080/"
        },
        "outputId": "02f91177-0d49-4d4b-a39b-1a944297c2ab"
      },
      "execution_count": 17,
      "outputs": [
        {
          "output_type": "stream",
          "name": "stdout",
          "text": [
            "A.A⁻¹:\n",
            " [[1.00000000e+00 0.00000000e+00]\n",
            " [1.77635684e-15 1.00000000e+00]]\n",
            "\n",
            "AB:\n",
            " [[23 13]\n",
            " [51 29]]\n",
            "\n",
            "BA:\n",
            " [[36 44]\n",
            " [13 16]]\n",
            "\n",
            "AB ≠ BA: True\n",
            "\n",
            "(AB)ᵀ:\n",
            " [[23 51]\n",
            " [13 29]]\n",
            "\n",
            "BᵀAᵀ:\n",
            " [[23 51]\n",
            " [13 29]]\n",
            "\n",
            "(AB)ᵀ = BᵀAᵀ: True\n",
            "\n",
            "Solution using inverse method:\n",
            " [ 2.  1. -2.]\n",
            "\n",
            "Solution using np.linalg.solve:\n",
            " [ 2.  1. -2.]\n"
          ]
        }
      ]
    },
    {
      "cell_type": "markdown",
      "source": [
        "#problem 5"
      ],
      "metadata": {
        "id": "evLFW8V--2T3"
      }
    },
    {
      "cell_type": "code",
      "source": [
        "# problem5\n",
        "import numpy as np\n",
        "import time\n",
        "\n",
        "# Step 1: Element-wise Addition\n",
        "\n",
        "# Using Python Lists\n",
        "list1 = list(range(1000000))\n",
        "list2 = list(range(1000000))\n",
        "\n",
        "start_time = time.time()\n",
        "list_sum = [list1[i] + list2[i] for i in range(len(list1))]\n",
        "end_time = time.time()\n",
        "print(f\"Time taken for element-wise addition using Python lists: {end_time - start_time:.5f} seconds\")\n",
        "\n",
        "# Using NumPy Arrays\n",
        "array1 = np.arange(1000000)\n",
        "array2 = np.arange(1000000)\n",
        "\n",
        "start_time = time.time()\n",
        "array_sum = array1 + array2\n",
        "end_time = time.time()\n",
        "print(f\"Time taken for element-wise addition using NumPy arrays: {end_time - start_time:.5f} seconds\")\n",
        "\n",
        "# Step 2: Element-wise Multiplication\n",
        "\n",
        "# Using Python Lists\n",
        "start_time = time.time()\n",
        "list_product = [list1[i] * list2[i] for i in range(len(list1))]\n",
        "end_time = time.time()\n",
        "print(f\"Time taken for element-wise multiplication using Python lists: {end_time - start_time:.5f} seconds\")\n",
        "\n",
        "# Using NumPy Arrays\n",
        "start_time = time.time()\n",
        "array_product = array1 * array2\n",
        "end_time = time.time()\n",
        "print(f\"Time taken for element-wise multiplication using NumPy arrays: {end_time - start_time:.5f} seconds\")\n",
        "\n",
        "# Step 3: Dot Product\n",
        "\n",
        "# Using Python Lists\n",
        "start_time = time.time()\n",
        "dot_product_list = sum(list1[i] * list2[i] for i in range(len(list1)))\n",
        "end_time = time.time()\n",
        "print(f\"Time taken for dot product using Python lists: {end_time - start_time:.5f} seconds\")\n",
        "\n",
        "# Using NumPy Arrays\n",
        "start_time = time.time()\n",
        "dot_product_array = np.dot(array1, array2)\n",
        "end_time = time.time()\n",
        "print(f\"Time taken for dot product using NumPy arrays: {end_time - start_time:.5f} seconds\")\n",
        "\n",
        "# Step 4: Matrix Multiplication\n",
        "\n",
        "# Using Python Lists\n",
        "matrix1 = [[i for i in range(1000)] for j in range(1000)]\n",
        "matrix2 = [[i for i in range(1000)] for j in range(1000)]\n",
        "\n",
        "def matrix_multiply(A, B):\n",
        "    result = [[0 for _ in range(len(B[0]))] for _ in range(len(A))]\n",
        "    for i in range(len(A)):\n",
        "        for j in range(len(B[0])):\n",
        "            for k in range(len(B)):\n",
        "                result[i][j] += A[i][j] * B[j][k]\n",
        "    return result\n",
        "\n",
        "start_time = time.time()\n",
        "result_matrix = matrix_multiply(matrix1, matrix2)\n",
        "end_time = time.time()\n",
        "print(f\"Time taken for matrix multiplication using Python lists: {end_time - start_time:.5f} seconds\")\n",
        "\n",
        "# Using NumPy Arrays\n",
        "matrix1_np = np.arange(1000000).reshape(1000, 1000)\n",
        "matrix2_np = np.arange(1000000).reshape(1000, 1000)\n",
        "\n",
        "start_time = time.time()\n",
        "result_matrix_np = np.dot(matrix1_np, matrix2_np)\n",
        "end_time = time.time()\n",
        "print(f\"Time taken for matrix multiplication using NumPy arrays: {end_time - start_time:.5f} seconds\")\n"
      ],
      "metadata": {
        "id": "XTHaP4Jagl5Q",
        "colab": {
          "base_uri": "https://localhost:8080/"
        },
        "outputId": "f7c569ae-4497-4b05-9505-b1c108ea360b"
      },
      "execution_count": 18,
      "outputs": [
        {
          "output_type": "stream",
          "name": "stdout",
          "text": [
            "Time taken for element-wise addition using Python lists: 0.17593 seconds\n",
            "Time taken for element-wise addition using NumPy arrays: 0.00416 seconds\n",
            "Time taken for element-wise multiplication using Python lists: 0.16620 seconds\n",
            "Time taken for element-wise multiplication using NumPy arrays: 0.00260 seconds\n",
            "Time taken for dot product using Python lists: 0.15036 seconds\n",
            "Time taken for dot product using NumPy arrays: 0.00196 seconds\n",
            "Time taken for matrix multiplication using Python lists: 245.27594 seconds\n",
            "Time taken for matrix multiplication using NumPy arrays: 4.31916 seconds\n"
          ]
        }
      ]
    },
    {
      "cell_type": "code",
      "source": [],
      "metadata": {
        "id": "0WChjPdhgl-L"
      },
      "execution_count": null,
      "outputs": []
    },
    {
      "cell_type": "code",
      "source": [],
      "metadata": {
        "id": "voejs5ilgmB2"
      },
      "execution_count": null,
      "outputs": []
    },
    {
      "cell_type": "code",
      "source": [],
      "metadata": {
        "id": "P64pmtp_gmEW"
      },
      "execution_count": null,
      "outputs": []
    },
    {
      "cell_type": "code",
      "source": [],
      "metadata": {
        "id": "crDeA_fPgmGV"
      },
      "execution_count": null,
      "outputs": []
    },
    {
      "cell_type": "code",
      "source": [],
      "metadata": {
        "id": "8NW1-yT0gmJr"
      },
      "execution_count": null,
      "outputs": []
    }
  ]
}