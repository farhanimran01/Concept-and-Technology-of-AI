{
 "cells": [
  {
   "cell_type": "code",
   "execution_count": null,
   "metadata": {},
   "outputs": [],
   "source": [
    "# Given temperatures list\n",
    "temperatures = [8.2, 17.4, 14.1, 7.9, 18.0, 13.5, 9.0, 17.8, 13.0, 8.5,\n",
    "                16.5, 12.9, 7.7, 17.2, 13.3, 8.4, 16.7, 14.0, 9.5, 18.3, \n",
    "                13.4, 8.1, 17.9, 14.2, 7.6, 17.0, 12.8, 8.0, 16.8, 13.7, \n",
    "                7.8, 17.5, 13.6, 8.7, 17.1, 13.8, 9.2, 18.1, 13.9, 8.3, \n",
    "                16.4, 12.7, 8.9, 18.2, 13.1, 7.8, 16.6, 12.5]\n",
    "\n",
    "# Step 1: Create empty lists for each classification\n",
    "cold = []          # temperatures below 10°C\n",
    "mild = []          # temperatures between 10°C and 15°C\n",
    "comfortable = []    # temperatures between 15°C and 20°C\n",
    "\n",
    "# Step 2: Iterate over the temperatures list and classify each temperature\n",
    "for temp in temperatures:\n",
    "    if temp < 10:\n",
    "        cold.append(temp)\n",
    "    elif 10 <= temp < 15:\n",
    "        mild.append(temp)\n",
    "    elif 15 <= temp < 20:\n",
    "        comfortable.append(temp)\n",
    "\n",
    "# Step 3: Print the lists to verify the classifications\n",
    "print(\"Cold temperatures (below 10°C):\", cold)\n",
    "print(\"Mild temperatures (10°C to 15°C):\", mild)\n",
    "print(\"Comfortable temperatures (15°C to 20°C):\", comfortable)\n"
   ]
  },
  {
   "cell_type": "code",
   "execution_count": null,
   "metadata": {},
   "outputs": [],
   "source": [
    "temperatures = [8.2, 17.4, 14.1, 7.9, 18.0, 13.5, 9.0, 17.8, 13.0, 8.5,\n",
    "                16.5, 12.9, 7.7, 17.2, 13.3, 8.4, 16.7, 14.0, 9.5, 18.3, \n",
    "                13.4, 8.1, 17.9, 14.2, 7.6, 17.0, 12.8, 8.0, 16.8, 13.7, \n",
    "                7.8, 17.5, 13.6, 8.7, 17.1, 13.8, 9.2, 18.1, 13.9, 8.3, \n",
    "                16.4, 12.7, 8.9, 18.2, 13.1, 7.8, 16.6, 12.5]\n",
    "\n",
    "# Step 1: Create empty lists for each classification\n",
    "cold = []          # temperatures below 10°C\n",
    "mild = []          # temperatures between 10°C and 15°C\n",
    "comfortable = []    # temperatures between 15°C and 20°C\n",
    "\n",
    "# Step 2: Iterate over the temperatures list and classify each temperature\n",
    "for temp in temperatures:\n",
    "    if temp < 10:\n",
    "        cold.append(temp)\n",
    "    elif 10 <= temp < 15:\n",
    "        mild.append(temp)\n",
    "    elif 15 <= temp < 20:\n",
    "        comfortable.append(temp)\n",
    "\n",
    "# Step 3: Count the number of occurrences for each classification\n",
    "print(\"Mild count:\", len(mild))\n",
    "print(\"Comfortable count:\", len(comfortable))\n",
    "print(\"Cold count:\", len(cold))\n",
    "\n",
    "# Step 4: Convert each temperature from Celsius to Fahrenheit and store in temperatures_fahrenheit\n",
    "temperatures_fahrenheit = [(temp * 9/5) + 32 for temp in temperatures]\n",
    "\n",
    "# Print the Fahrenheit values\n",
    "print(\"\\nTemperatures in Fahrenheit:\", temperatures_fahrenheit)\n",
    "\n",
    "# Step 5: Group temperatures by time of day and calculate average daytime temperature\n",
    "night = temperatures[:8]        # Night: first 8 readings (00-08)\n",
    "evening = temperatures[8:16]    # Evening: readings 9 to 16 (08-16)\n",
    "day = temperatures[16:]         # Day: readings 17 to 24 (16-24)\n",
    "\n",
    "# Calculate average daytime temperature\n",
    "average_day_temp = sum(day) / len(day) if day else 0\n",
    "\n",
    "# Print the results\n",
    "print(\"\\nNight temperatures:\", night)\n",
    "print(\"Evening temperatures:\", evening)\n",
    "print(\"Day temperatures:\", day)\n",
    "print(\"Average daytime temperature:\", average_day_temp)"
   ]
  },
  {
   "cell_type": "code",
   "execution_count": 6,
   "metadata": {
    "colab": {
     "base_uri": "https://localhost:8080/"
    },
    "id": "_WEYkcGSu0yZ",
    "outputId": "a4405e0a-5b44-4ff1-cf5f-43eff4b27ce8"
   },
   "outputs": [
    {
     "name": "stdout",
     "output_type": "stream",
     "text": [
      "Total sum of [1, [2, [3, 4], 5], 6, [7, 8]] is: 36\n"
     ]
    }
   ],
   "source": [
    "def sum_nested_list(nested_list):\n",
    "    \"\"\"\n",
    "    Recursively sums all numbers in a nested list.\n",
    "\n",
    "    Args:\n",
    "    nested_list (list): A list that may contain numbers or other lists of numbers.\n",
    "\n",
    "    Returns:\n",
    "    int: The total sum of all numbers in the nested list.\n",
    "    \"\"\"\n",
    "    total = 0\n",
    "    for item in nested_list:\n",
    "        if isinstance(item, list):  # If the item is a list, call the function recursively\n",
    "            total += sum_nested_list(item)\n",
    "        else:  # If the item is a number, add it to the total\n",
    "            total += item\n",
    "    return total\n",
    "\n",
    "# Test the function\n",
    "nested_list = [1, [2, [3, 4], 5], 6, [7, 8]]\n",
    "result = sum_nested_list(nested_list)\n",
    "print(f\"Total sum of {nested_list} is: {result}\")\n"
   ]
  },
  {
   "cell_type": "code",
   "execution_count": 7,
   "metadata": {
    "colab": {
     "base_uri": "https://localhost:8080/"
    },
    "id": "R7QuYe2_vlcK",
    "outputId": "529eb1c4-415c-448b-8954-c345535a74a6"
   },
   "outputs": [
    {
     "name": "stdout",
     "output_type": "stream",
     "text": [
      "Permutations of 'abc': ['acb', 'bac', 'bca', 'cab', 'cba', 'abc']\n",
      "Permutations of 'aab': ['aab', 'aba', 'baa']\n"
     ]
    }
   ],
   "source": [
    "def generate_permutations(s):\n",
    "    if len(s) == 1:\n",
    "        return [s]  # Base case: a single character has only one permutation\n",
    "\n",
    "    # To store all unique permutations\n",
    "    permutations = set()\n",
    "\n",
    "    for i, char in enumerate(s):\n",
    "        # Remove the character at index i and get the rest of the string\n",
    "        remaining = s[:i] + s[i+1:]\n",
    "        # Generate permutations of the remaining string\n",
    "        for perm in generate_permutations(remaining):\n",
    "            # Add the current character to the front of each permutation\n",
    "            permutations.add(char + perm)\n",
    "\n",
    "    return list(permutations)  # Convert the set to a list\n",
    "\n",
    "# Test the function\n",
    "print(\"Permutations of 'abc':\", generate_permutations(\"abc\"))\n",
    "print(\"Permutations of 'aab':\", generate_permutations(\"aab\"))\n"
   ]
  },
  {
   "cell_type": "code",
   "execution_count": 8,
   "metadata": {
    "colab": {
     "base_uri": "https://localhost:8080/"
    },
    "id": "B3bPrZ7ov0TM",
    "outputId": "79ba23d8-565f-481b-a1de-f6b6931deeaa"
   },
   "outputs": [
    {
     "name": "stdout",
     "output_type": "stream",
     "text": [
      "Total size of the directory: 1400 KB\n"
     ]
    }
   ],
   "source": [
    "def calculate_directory_size(directory):\n",
    "    total_size = 0\n",
    "\n",
    "    for key, value in directory.items():\n",
    "        if isinstance(value, dict):  # If the value is a dictionary, it's a subdirectory\n",
    "            total_size += calculate_directory_size(value)\n",
    "        else:  # Otherwise, it's a file size\n",
    "            total_size += value\n",
    "\n",
    "    return total_size\n",
    "\n",
    "# Sample directory structure\n",
    "directory_structure = {\n",
    "    \"file1.txt\": 200,\n",
    "    \"file2.txt\": 300,\n",
    "    \"subdir1\": {\n",
    "        \"file3.txt\": 400,\n",
    "        \"file4.txt\": 100\n",
    "    },\n",
    "    \"subdir2\": {\n",
    "        \"subsubdir1\": {\n",
    "            \"file5.txt\": 250\n",
    "        },\n",
    "        \"file6.txt\": 150\n",
    "    }\n",
    "}\n",
    "\n",
    "# Test the function\n",
    "total_size = calculate_directory_size(directory_structure)\n",
    "print(f\"Total size of the directory: {total_size} KB\")\n"
   ]
  },
  {
   "cell_type": "code",
   "execution_count": 9,
   "metadata": {
    "colab": {
     "base_uri": "https://localhost:8080/"
    },
    "id": "mUXtuUhhwRK4",
    "outputId": "cb487b09-29c9-40b2-ef6d-5039b4e4782e"
   },
   "outputs": [
    {
     "name": "stdout",
     "output_type": "stream",
     "text": [
      "Minimum coins for amount 11 with coins [1, 2, 5]: 3\n",
      "Minimum coins for amount 3 with coins [2]: -1\n"
     ]
    }
   ],
   "source": [
    "def min_coins(coins, amount):\n",
    "    \"\"\"\n",
    "    Finds the minimum number of coins needed to make up a given amount using dynamic programming.\n",
    "\n",
    "    Parameters:\n",
    "    coins (list of int): A list of coin denominations available for making change.\n",
    "    amount (int): The target amount for which we need to find the minimum number of coins.\n",
    "\n",
    "    Returns:\n",
    "    int: The minimum number of coins required to make the given amount.\n",
    "         If it is not possible to make the amount with the given coins, returns -1.\n",
    "    \"\"\"\n",
    "    # Initialize a DP array with infinity for all amounts greater than 0\n",
    "    dp = [float('inf')] * (amount + 1)\n",
    "    dp[0] = 0  # Base case: 0 coins needed to make amount 0\n",
    "\n",
    "    # Build up the DP array\n",
    "    for coin in coins:\n",
    "        for i in range(coin, amount + 1):\n",
    "            dp[i] = min(dp[i], dp[i - coin] + 1)\n",
    "\n",
    "    # Return the result\n",
    "    return dp[amount] if dp[amount] != float('inf') else -1\n",
    "\n",
    "# Test cases\n",
    "print(\"Minimum coins for amount 11 with coins [1, 2, 5]:\", min_coins([1, 2, 5], 11))  # Expected output: 3\n",
    "print(\"Minimum coins for amount 3 with coins [2]:\", min_coins([2], 3))  # Expected output: -1\n"
   ]
  },
  {
   "cell_type": "code",
   "execution_count": 10,
   "metadata": {
    "id": "VXQT9uZ7xTF3"
   },
   "outputs": [
    {
     "name": "stdout",
     "output_type": "stream",
     "text": [
      "The length of the LCS of 'abcde' and 'ace' is: 3\n"
     ]
    }
   ],
   "source": [
    "def longest_common_subsequence(s1, s2):\n",
    "    # Lengths of the two strings\n",
    "    m = len(s1)\n",
    "    n = len(s2)\n",
    "    \n",
    "    # Create a DP table with dimensions (m+1) x (n+1)\n",
    "    dp = [[0] * (n + 1) for _ in range(m + 1)]\n",
    "    \n",
    "    # Fill the DP table\n",
    "    for i in range(1, m + 1):\n",
    "        for j in range(1, n + 1):\n",
    "            if s1[i - 1] == s2[j - 1]:\n",
    "                dp[i][j] = dp[i - 1][j - 1] + 1\n",
    "            else:\n",
    "                dp[i][j] = max(dp[i - 1][j], dp[i][j - 1])\n",
    "    \n",
    "    # The length of the longest common subsequence is at dp[m][n]\n",
    "    return dp[m][n]\n",
    "\n",
    "# Test with the provided strings\n",
    "s1 = \"abcde\"\n",
    "s2 = \"ace\"\n",
    "result = longest_common_subsequence(s1, s2)\n",
    "print(f\"The length of the LCS of '{s1}' and '{s2}' is: {result}\")"
   ]
  },
  {
   "cell_type": "code",
   "execution_count": 11,
   "metadata": {},
   "outputs": [
    {
     "name": "stdout",
     "output_type": "stream",
     "text": [
      "The maximum value that can be carried is: 9\n"
     ]
    }
   ],
   "source": [
    "def knapsack(weights, values, capacity):\n",
    "    n = len(weights)\n",
    "    \n",
    "    # Create a DP table with (n+1) x (capacity+1)\n",
    "    dp = [[0] * (capacity + 1) for _ in range(n + 1)]\n",
    "    \n",
    "    # Fill the DP table\n",
    "    for i in range(1, n + 1):\n",
    "        for w in range(1, capacity + 1):\n",
    "            if weights[i - 1] <= w:\n",
    "                dp[i][w] = max(dp[i - 1][w], dp[i - 1][w - weights[i - 1]] + values[i - 1])\n",
    "            else:\n",
    "                dp[i][w] = dp[i - 1][w]\n",
    "    \n",
    "    # The maximum value will be in dp[n][capacity]\n",
    "    return dp[n][capacity]\n",
    "\n",
    "# Test with the provided example\n",
    "weights = [1, 3, 4, 5]\n",
    "values = [1, 4, 5, 7]\n",
    "capacity = 7\n",
    "result = knapsack(weights, values, capacity)\n",
    "print(f\"The maximum value that can be carried is: {result}\")"
   ]
  }
 ],
 "metadata": {
  "colab": {
   "provenance": []
  },
  "kernelspec": {
   "display_name": "Python 3",
   "name": "python3"
  },
  "language_info": {
   "codemirror_mode": {
    "name": "ipython",
    "version": 3
   },
   "file_extension": ".py",
   "mimetype": "text/x-python",
   "name": "python",
   "nbconvert_exporter": "python",
   "pygments_lexer": "ipython3",
   "version": "3.11.9"
  }
 },
 "nbformat": 4,
 "nbformat_minor": 0
}
